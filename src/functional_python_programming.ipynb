{
 "cells": [
  {
   "cell_type": "markdown",
   "metadata": {},
   "source": [
    "### OOP:\n",
    "0. In imperative languages each statement is a command, which change the\n",
    "state in the some wa.\n",
    "1. Subset of imperative programming\n",
    "\n",
    "\n",
    "\n",
    "### Functional programming:\n",
    "0. Functional paradigm - replace state - the changing values of variables with simple functions.\n",
    "1. Each function evaluation create a new object ot objects from existing object.\n",
    "2. Composition of a function with design lower-level functions that easy to understand.\n",
    "3. Closely parallels mathematical formalism 'using simple algebra to design an algorithms'\n",
    "\n",
    "LEGB\n",
    "\n",
    "1. Local\n",
    "2. Enclosing \"all function in module\"\n",
    "3. Global \"\"\n",
    "4. Building  \"repository\"\n",
    "\n",
    "If you set 'nonlocal variable_name' search will only in the Enclosing"
   ]
  },
  {
   "cell_type": "markdown",
   "metadata": {},
   "source": [
    "### Prime number algorithm with imperative approach"
   ]
  },
  {
   "cell_type": "code",
   "execution_count": 1,
   "metadata": {
    "pycharm": {
     "name": "#%%\n"
    }
   },
   "outputs": [
    {
     "name": "stdout",
     "output_type": "stream",
     "text": [
      "20\n"
     ]
    }
   ],
   "source": [
    "def fun():\n",
    "    s=0\n",
    "    for n in range(0,10):\n",
    "        if n % 2 == 0:\n",
    "            s+=n\n",
    "    return s\n",
    "print(fun())"
   ]
  },
  {
   "cell_type": "markdown",
   "metadata": {},
   "source": [
    "### Even number algorithm with OOP"
   ]
  },
  {
   "cell_type": "code",
   "execution_count": 2,
   "metadata": {
    "pycharm": {
     "name": "#%%\n"
    }
   },
   "outputs": [
    {
     "name": "stdout",
     "output_type": "stream",
     "text": [
      "[0, 2, 4, 6, 8]\n"
     ]
    }
   ],
   "source": [
    "def fun():\n",
    "    m=list()\n",
    "    for n in range(0,10):\n",
    "        if n % 2 == 0:\n",
    "            m.append(n)\n",
    "    return m\n",
    "print(fun())"
   ]
  },
  {
   "cell_type": "markdown",
   "metadata": {},
   "source": [
    "### Even number algorithm with functional paradigm"
   ]
  },
  {
   "cell_type": "code",
   "execution_count": 3,
   "metadata": {
    "pycharm": {
     "name": "#%%\n"
    }
   },
   "outputs": [
    {
     "name": "stdout",
     "output_type": "stream",
     "text": [
      "20\n"
     ]
    }
   ],
   "source": [
    "def sum_recursion(arr, res):\n",
    "    if len(arr) - 1 == 0: return res\n",
    "    if arr[0] % 2 == 0: res += arr[0]\n",
    "    return sum_recursion(arr[1:], res)\n",
    "\n",
    "print(sum_recursion([1,2,3,4,5,6,7,8,9,10], 0))\n"
   ]
  },
  {
   "cell_type": "markdown",
   "metadata": {
    "pycharm": {
     "name": "#%% md\n"
    }
   },
   "source": [
    "### Even number algorithm with functional paradigm and lambda"
   ]
  },
  {
   "cell_type": "code",
   "execution_count": 4,
   "metadata": {
    "pycharm": {
     "name": "#%%\n"
    }
   },
   "outputs": [
    {
     "name": "stdout",
     "output_type": "stream",
     "text": [
      "20\n"
     ]
    }
   ],
   "source": [
    "mult_3_5 = lambda x: x%2==0\n",
    "\n",
    "def sum_recursion(arr, res):\n",
    "    if len(arr) - 1 == 0: return res\n",
    "    if mult_3_5(arr[0]): res += arr[0]\n",
    "    return sum_recursion(arr[1:], res)\n",
    "\n",
    "print(sum_recursion([1,2,3,4,5,6,7,8,9,10], 0))"
   ]
  },
  {
   "cell_type": "markdown",
   "metadata": {
    "pycharm": {
     "name": "#%% md\n"
    }
   },
   "source": [
    "### Functional paradigm has the next focus\n",
    "1. First-class and high order function or pure functions\n",
    "Provide functions as argument. Create function as a callable object or by\n",
    "assigning lambda to a variable.\n",
    "\n",
    "2. Avoid global statements and side effects\n",
    "\n",
    "3. Immutable data\n",
    "\n",
    "4. Laze evaluation\n",
    "\n",
    "5. Recursion instead of loop states\n",
    "\n",
    "6. Functional type system\n",
    "\n",
    "7. Program as a set of simple atomic functions and their combinations\n",
    "\n",
    "8. Set focus on tuples and immutable collections\n",
    "\n",
    "9. Use pure functions - no side effects no global variables\n"
   ]
  },
  {
   "cell_type": "markdown",
   "metadata": {
    "pycharm": {
     "name": "#%% md\n"
    }
   },
   "source": [
    "### Generator functions.\n",
    "allow you to declare a function that behaves like an iterator, i.e. it can be used in a for loop."
   ]
  },
  {
   "cell_type": "code",
   "execution_count": 5,
   "metadata": {
    "pycharm": {
     "name": "#%%\n"
    }
   },
   "outputs": [
    {
     "name": "stdout",
     "output_type": "stream",
     "text": [
      "[<generator object <genexpr> at 0x7f8d44f78740>, <generator object <genexpr> at 0x7f8d44f78740>, <generator object <genexpr> at 0x7f8d44f78740>]\n"
     ]
    }
   ],
   "source": [
    "def f(x):\n",
    "    return x**2\n",
    "\n",
    "x_f = (f(x) for x in range(0,10))\n",
    "\n",
    "\n",
    "print(list(map(lambda x: x_f, [1,2,3])))"
   ]
  },
  {
   "cell_type": "markdown",
   "metadata": {},
   "source": [
    "zip and enumerate\n"
   ]
  },
  {
   "cell_type": "code",
   "execution_count": 6,
   "metadata": {
    "pycharm": {
     "name": "#%%\n"
    }
   },
   "outputs": [
    {
     "name": "stdout",
     "output_type": "stream",
     "text": [
      "((1, 6), (2, 7), (3, 8), (4, 9), (5, 11))\n",
      "[(1, 6), (2, 7), (3, 8), (4, 9), (5, 11)]\n",
      "{1: 6, 2: 7, 3: 8, 4: 9, 5: 11}\n",
      "(1, 6) (2, 7) (3, 8) (4, 9) (5, 11)\n",
      "[(0, 1), (1, 2), (2, 3), (3, 4), (4, 5)]\n"
     ]
    }
   ],
   "source": [
    "l1 = [1,2,3,4,5]\n",
    "l2 = [6,7,8,9,11]\n",
    "\n",
    "print(tuple(zip(l1, l2)))\n",
    "print(list(zip(l1, l2)))\n",
    "print(dict(zip(l1, l2)))\n",
    "print(*zip(l1, l2))\n",
    "\n",
    "\n",
    "print(list(enumerate(l1)))"
   ]
  },
  {
   "cell_type": "markdown",
   "metadata": {},
   "source": [
    "### Higher-order function HOF\n",
    "\n",
    "1. max()\n",
    "2. min()\n",
    "3. Lambda\n",
    "4. filter()\n",
    "5. iter()\n",
    "6. sorted()"
   ]
  },
  {
   "cell_type": "code",
   "execution_count": 7,
   "metadata": {
    "pycharm": {
     "name": "#%%\n"
    }
   },
   "outputs": [],
   "source": [
    "#lambda form allows us to define a small, anonymous function\n",
    "#lambda is callable object, can be used as function.\n",
    "lambda_multiplication_2 = lambda x : x*2"
   ]
  },
  {
   "cell_type": "markdown",
   "metadata": {},
   "source": [
    "### map()\n",
    "map() - provide mapping one collection to another collection.\n",
    "map each individual item from the DOMAIN collection to the RANGE collection.\n"
   ]
  },
  {
   "cell_type": "code",
   "execution_count": 8,
   "metadata": {
    "pycharm": {
     "name": "#%%\n"
    }
   },
   "outputs": [
    {
     "name": "stdout",
     "output_type": "stream",
     "text": [
      "[2, 4, 6]\n"
     ]
    }
   ],
   "source": [
    "l = [1,2,3]\n",
    "lambda_result = list(map(lambda x: x*2, l))\n",
    "print(lambda_result)"
   ]
  },
  {
   "cell_type": "markdown",
   "metadata": {},
   "source": [
    "### filter()"
   ]
  },
  {
   "cell_type": "code",
   "execution_count": 19,
   "metadata": {
    "pycharm": {
     "name": "#%%\n"
    }
   },
   "outputs": [
    {
     "name": "stdout",
     "output_type": "stream",
     "text": [
      "[0, 2, 4, 6, 8]\n"
     ]
    }
   ],
   "source": [
    "list10 = list(range(10))\n",
    "filter_result = list(filter(lambda x: x % 2 == 0, list10))\n",
    "print(filter_result)"
   ]
  },
  {
   "cell_type": "markdown",
   "source": [
    "### iter()"
   ],
   "metadata": {
    "collapsed": false,
    "pycharm": {
     "name": "#%% md\n"
    }
   }
  },
  {
   "cell_type": "code",
   "execution_count": null,
   "metadata": {},
   "outputs": [],
   "source": []
  }
 ],
 "metadata": {
  "kernelspec": {
   "display_name": "Python 3",
   "language": "python",
   "name": "python3"
  },
  "language_info": {
   "codemirror_mode": {
    "name": "ipython",
    "version": 3
   },
   "file_extension": ".py",
   "mimetype": "text/x-python",
   "name": "python",
   "nbconvert_exporter": "python",
   "pygments_lexer": "ipython3",
   "version": "3.8.5"
  }
 },
 "nbformat": 4,
 "nbformat_minor": 1
}